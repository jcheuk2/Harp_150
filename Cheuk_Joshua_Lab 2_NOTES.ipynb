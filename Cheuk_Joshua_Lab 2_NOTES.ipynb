{
 "cells": [
  {
   "cell_type": "code",
   "execution_count": 1,
   "id": "70385494",
   "metadata": {},
   "outputs": [],
   "source": [
    "# today is my first day of coding! "
   ]
  },
  {
   "cell_type": "markdown",
   "id": "c69288c0",
   "metadata": {},
   "source": [
    "# This is a heading"
   ]
  },
  {
   "cell_type": "markdown",
   "id": "90efebc1",
   "metadata": {},
   "source": [
    "_this will be italic_"
   ]
  },
  {
   "cell_type": "markdown",
   "id": "0286feb9",
   "metadata": {},
   "source": [
    "__This would be bold__"
   ]
  },
  {
   "cell_type": "code",
   "execution_count": 9,
   "id": "bfa7e48e",
   "metadata": {},
   "outputs": [
    {
     "name": "stdout",
     "output_type": "stream",
     "text": [
      "Joshua Cheuk\n"
     ]
    }
   ],
   "source": [
    "Name = \"Joshua Cheuk\" \n",
    "#name is my variable name \n",
    "\n",
    "print(Name)\n",
    "\n",
    "#I am going to print off my variable called name "
   ]
  },
  {
   "cell_type": "code",
   "execution_count": 15,
   "id": "182c3e18",
   "metadata": {},
   "outputs": [
    {
     "name": "stdout",
     "output_type": "stream",
     "text": [
      "say hi to emily and frank\n"
     ]
    }
   ],
   "source": [
    "#Exercise 2 \n",
    "\n",
    "# (1) 5 variables and assign them to integers \n",
    "# Create a variable for each person in your family\n",
    "# and store their name as a string! Don’t forget, make your variable names descriptive!\n",
    "\n",
    "mom = \"emily\" \n",
    "dad = \"frank\" \n",
    "\n",
    "print(\"say hi to \"+ mom +\" and \"+ dad)\n"
   ]
  },
  {
   "cell_type": "code",
   "execution_count": 20,
   "id": "d9dcca57",
   "metadata": {},
   "outputs": [
    {
     "name": "stdout",
     "output_type": "stream",
     "text": [
      "EMILYfrank\n"
     ]
    }
   ],
   "source": [
    "#string method \n",
    "\n",
    "mom = \"emily\" \n",
    "dad = \"frank\" \n",
    "\n",
    "mom.upper() \n",
    "\n",
    "dad.lower()\n",
    "\n",
    "print(mom.upper() + dad.lower())"
   ]
  },
  {
   "cell_type": "code",
   "execution_count": 22,
   "id": "164dfe99",
   "metadata": {},
   "outputs": [
    {
     "name": "stdout",
     "output_type": "stream",
     "text": [
      "what is your passwordBruh\n",
      "Bruh\n"
     ]
    }
   ],
   "source": [
    "password = input(\"what is your password\")\n",
    "\n",
    "print(password)"
   ]
  },
  {
   "cell_type": "code",
   "execution_count": 29,
   "id": "27d9a022",
   "metadata": {},
   "outputs": [
    {
     "name": "stdout",
     "output_type": "stream",
     "text": [
      "Joshua Cheuk\n"
     ]
    }
   ],
   "source": [
    "# combining strings; concatenation \n",
    "\n",
    "first_name = \"Joshua\"\n",
    "last_name = \"Cheuk\"\n",
    "\n",
    "print( first_name +\" \" + last_name)"
   ]
  },
  {
   "cell_type": "code",
   "execution_count": 34,
   "id": "584ba7de",
   "metadata": {},
   "outputs": [
    {
     "name": "stdout",
     "output_type": "stream",
     "text": [
      "APPLE ORANGE\n"
     ]
    },
    {
     "data": {
      "text/plain": [
       "12"
      ]
     },
     "execution_count": 34,
     "metadata": {},
     "output_type": "execute_result"
    }
   ],
   "source": [
    "#exercise 1 \n",
    "\n",
    "#Create two string variables and concatenate them\n",
    "#Try storing that new concatenated string in a brand new variable\n",
    "#Convert that new string to all upper case\n",
    "#Use the len() to count how many characters are in the string!\n",
    "\n",
    "fruit_1 = \"apple\" \n",
    "fruit_2 = \"orange\"\n",
    "\n",
    "storage = fruit_1 + \" \" + fruit_2 \n",
    "\n",
    "print(storage.upper())\n",
    "len(storage)"
   ]
  },
  {
   "cell_type": "markdown",
   "id": "bc5dd563",
   "metadata": {},
   "source": [
    "# Arithmetic operator"
   ]
  },
  {
   "cell_type": "code",
   "execution_count": null,
   "id": "a591316c",
   "metadata": {},
   "outputs": [],
   "source": [
    "# https://www.w3schools.com/python/python_operators.asp "
   ]
  },
  {
   "cell_type": "markdown",
   "id": "b587808b",
   "metadata": {},
   "source": [
    "We are all familiar with the division operator, it divides two numbers and gives us the output → \n",
    "\n",
    "The Modulo operator, in contrast, divides two numbers and gives us the remainder →  \n",
    "\n",
    "Why do we need that? It’s a great way to figure out if a number is even or odd! → \n",
    "\n",
    "0 is even \n",
    "\n",
    "1 is odd"
   ]
  },
  {
   "cell_type": "code",
   "execution_count": 54,
   "id": "71d95608",
   "metadata": {},
   "outputs": [
    {
     "name": "stdout",
     "output_type": "stream",
     "text": [
      "9.0\n"
     ]
    }
   ],
   "source": [
    "#exercise 2\n",
    "#Create at least 5 variables and assign them to integers (like we did on slide 27)\n",
    "\n",
    "\n",
    "apple = 1\n",
    "orange = 2 \n",
    "bannana = 3\n",
    "watermelon = 4\n",
    "pear = 5\n",
    "\n",
    "#Use the variables with each operator we covered on slide 26\n",
    "\n",
    "price = ((apple/orange) + bannana)*(watermelon)-(pear)\n",
    "\n",
    "print(price)"
   ]
  },
  {
   "cell_type": "code",
   "execution_count": 53,
   "id": "f6eaf378",
   "metadata": {},
   "outputs": [
    {
     "data": {
      "text/plain": [
       "1"
      ]
     },
     "execution_count": 53,
     "metadata": {},
     "output_type": "execute_result"
    }
   ],
   "source": [
    "#exercise 2 \n",
    "#Use the modulo operator to determine if the number 59625 is even or odd\n",
    "#finding out if number 59625 is even or odd\n",
    "\n",
    "596225% 2\n",
    "\n",
    "# we typically use 2 because everyhting even divides by 2. \n",
    "# if the result is 0, the number is even \n",
    "# if the result is 1, the number is odd "
   ]
  }
 ],
 "metadata": {
  "kernelspec": {
   "display_name": "Python 3 (ipykernel)",
   "language": "python",
   "name": "python3"
  },
  "language_info": {
   "codemirror_mode": {
    "name": "ipython",
    "version": 3
   },
   "file_extension": ".py",
   "mimetype": "text/x-python",
   "name": "python",
   "nbconvert_exporter": "python",
   "pygments_lexer": "ipython3",
   "version": "3.11.5"
  }
 },
 "nbformat": 4,
 "nbformat_minor": 5
}
